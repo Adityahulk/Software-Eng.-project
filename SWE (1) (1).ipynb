{
  "nbformat": 4,
  "nbformat_minor": 0,
  "metadata": {
    "colab": {
      "name": "SWE.ipynb",
      "provenance": []
    },
    "kernelspec": {
      "name": "python3",
      "display_name": "Python 3"
    },
    "accelerator": "GPU"
  },
  "cells": [
    {
      "cell_type": "code",
      "metadata": {
        "id": "iXthWAmKcwB8"
      },
      "source": [
        "import pandas as pd\n",
        "import numpy as np\n",
        "import matplotlib.pyplot as plt\n",
        "import seaborn as sns\n",
        "import tensorflow as tf\n",
        "import keras"
      ],
      "execution_count": 2,
      "outputs": []
    },
    {
      "cell_type": "code",
      "metadata": {
        "id": "cVaAPDrHbnCt"
      },
      "source": [
        "patients = pd.read_csv('/content/PATIENTS.csv')\n",
        "patients"
      ],
      "execution_count": null,
      "outputs": []
    },
    {
      "cell_type": "code",
      "metadata": {
        "id": "-a4ue4kBdLAN"
      },
      "source": [
        "prescriptions = pd.read_csv('/content/PRESCRIPTIONS.csv')\n",
        "prescriptions"
      ],
      "execution_count": null,
      "outputs": []
    },
    {
      "cell_type": "code",
      "metadata": {
        "colab": {
          "base_uri": "https://localhost:8080/"
        },
        "id": "hvvTIZR7dxMD",
        "outputId": "6d81c480-2695-4b9d-b215-4efde7a0513f"
      },
      "source": [
        "len(patients[patients['expire_flag'] == 1])"
      ],
      "execution_count": null,
      "outputs": [
        {
          "output_type": "execute_result",
          "data": {
            "text/plain": [
              "100"
            ]
          },
          "metadata": {
            "tags": []
          },
          "execution_count": 7
        }
      ]
    },
    {
      "cell_type": "code",
      "metadata": {
        "id": "9VTxZrUVeQsA"
      },
      "source": [
        "icu = pd.read_csv('/content/ICUSTAYS.csv')\n",
        "icu"
      ],
      "execution_count": null,
      "outputs": []
    },
    {
      "cell_type": "code",
      "metadata": {
        "colab": {
          "base_uri": "https://localhost:8080/"
        },
        "id": "M79TshESebzN",
        "outputId": "926aed5f-84d3-4459-b33f-696fb8f89a2c"
      },
      "source": [
        "len(icu['row_id'].unique())"
      ],
      "execution_count": null,
      "outputs": [
        {
          "output_type": "execute_result",
          "data": {
            "text/plain": [
              "136"
            ]
          },
          "metadata": {
            "tags": []
          },
          "execution_count": 11
        }
      ]
    },
    {
      "cell_type": "code",
      "metadata": {
        "colab": {
          "base_uri": "https://localhost:8080/"
        },
        "id": "wL0Qj_mReuMD",
        "outputId": "4274d2ed-ce83-4ad5-c642-8dbb16169281"
      },
      "source": [
        "len(icu['subject_id'].unique())"
      ],
      "execution_count": null,
      "outputs": [
        {
          "output_type": "execute_result",
          "data": {
            "text/plain": [
              "100"
            ]
          },
          "metadata": {
            "tags": []
          },
          "execution_count": 12
        }
      ]
    },
    {
      "cell_type": "code",
      "metadata": {
        "id": "UuyQahAbeygo"
      },
      "source": [
        "patients"
      ],
      "execution_count": null,
      "outputs": []
    },
    {
      "cell_type": "code",
      "metadata": {
        "id": "bBjsE7eCjqti"
      },
      "source": [
        "micro_biology_events = pd.read_csv('/content/MICROBIOLOGYEVENTS.csv')\n",
        "micro_biology_events"
      ],
      "execution_count": null,
      "outputs": []
    },
    {
      "cell_type": "code",
      "metadata": {
        "id": "uymDOpRikF08"
      },
      "source": [
        "diagnosis = pd.read_csv('/content/DIAGNOSES_ICD.csv')\n",
        "diagnosis"
      ],
      "execution_count": null,
      "outputs": []
    },
    {
      "cell_type": "code",
      "metadata": {
        "id": "mKPv1SGFkS6V"
      },
      "source": [
        "d_items = pd.read_csv('/content/D_ITEMS.csv')\n",
        "d_items"
      ],
      "execution_count": null,
      "outputs": []
    },
    {
      "cell_type": "code",
      "metadata": {
        "id": "XmDhj4yWkm5W"
      },
      "source": [
        "df3 = pd.read_csv('/content/TRANSFERS.csv')\n",
        "df3"
      ],
      "execution_count": null,
      "outputs": []
    },
    {
      "cell_type": "code",
      "metadata": {
        "colab": {
          "base_uri": "https://localhost:8080/"
        },
        "id": "ZGau_wjokzD4",
        "outputId": "a37dc5f1-9639-4037-84a8-9990a9ada4ff"
      },
      "source": [
        "len(df3['subject_id'].unique())"
      ],
      "execution_count": null,
      "outputs": [
        {
          "output_type": "execute_result",
          "data": {
            "text/plain": [
              "100"
            ]
          },
          "metadata": {
            "tags": []
          },
          "execution_count": 26
        }
      ]
    },
    {
      "cell_type": "code",
      "metadata": {
        "id": "9ivsDfD6lE9A"
      },
      "source": [
        "df3"
      ],
      "execution_count": null,
      "outputs": []
    },
    {
      "cell_type": "code",
      "metadata": {
        "id": "JFG_You6pE-F"
      },
      "source": [
        "output_events = pd.read_csv('/content/OUTPUTEVENTS.csv')\n",
        "output_events"
      ],
      "execution_count": null,
      "outputs": []
    },
    {
      "cell_type": "code",
      "metadata": {
        "id": "RSF3cLJypdom"
      },
      "source": [
        "dicd = pd.read_csv('/content/D_ICD_DIAGNOSES.csv')\n",
        "dicd"
      ],
      "execution_count": null,
      "outputs": []
    },
    {
      "cell_type": "code",
      "metadata": {
        "colab": {
          "base_uri": "https://localhost:8080/",
          "height": 35
        },
        "id": "DnDBVHfjpwqA",
        "outputId": "760cf80c-ec3a-4bc5-f592-8d22914790fa"
      },
      "source": [
        "dicd.loc[14564]['long_title']"
      ],
      "execution_count": null,
      "outputs": [
        {
          "output_type": "execute_result",
          "data": {
            "application/vnd.google.colaboratory.intrinsic+json": {
              "type": "string"
            },
            "text/plain": [
              "'Contact with and (suspected) exposure to other potentially hazardous chemicals'"
            ]
          },
          "metadata": {
            "tags": []
          },
          "execution_count": 32
        }
      ]
    },
    {
      "cell_type": "code",
      "metadata": {
        "colab": {
          "base_uri": "https://localhost:8080/",
          "height": 35
        },
        "id": "VvLQy6I2p_KR",
        "outputId": "92f152b6-748d-4e0f-ea96-d318506912c8"
      },
      "source": [
        "dicd.loc[14564]['short_title']"
      ],
      "execution_count": null,
      "outputs": [
        {
          "output_type": "execute_result",
          "data": {
            "application/vnd.google.colaboratory.intrinsic+json": {
              "type": "string"
            },
            "text/plain": [
              "'Cont/exp hazard chem NEC'"
            ]
          },
          "metadata": {
            "tags": []
          },
          "execution_count": 33
        }
      ]
    },
    {
      "cell_type": "code",
      "metadata": {
        "id": "Xm3BsTomqLEA"
      },
      "source": [
        "dicdp = pd.read_csv('/content/D_ICD_PROCEDURES.csv')\n",
        "dicdp"
      ],
      "execution_count": null,
      "outputs": []
    },
    {
      "cell_type": "code",
      "metadata": {
        "id": "gu3ZX__0qYXI"
      },
      "source": [
        "ditems = pd.read_csv('/content/D_ITEMS.csv')\n",
        "ditems"
      ],
      "execution_count": null,
      "outputs": []
    },
    {
      "cell_type": "code",
      "metadata": {
        "colab": {
          "base_uri": "https://localhost:8080/"
        },
        "id": "USK299MKqx7_",
        "outputId": "2c3c1554-64c5-4101-a98f-e203f8618421"
      },
      "source": [
        "len(dicdp['icd9_code'].unique())"
      ],
      "execution_count": null,
      "outputs": [
        {
          "output_type": "execute_result",
          "data": {
            "text/plain": [
              "3809"
            ]
          },
          "metadata": {
            "tags": []
          },
          "execution_count": 39
        }
      ]
    },
    {
      "cell_type": "code",
      "metadata": {
        "colab": {
          "base_uri": "https://localhost:8080/"
        },
        "id": "anT8ifgprRbC",
        "outputId": "75ee84af-764e-4623-b7c8-d90ef68e0f27"
      },
      "source": [
        "len(dicd['icd9_code'].unique())"
      ],
      "execution_count": null,
      "outputs": [
        {
          "output_type": "execute_result",
          "data": {
            "text/plain": [
              "14567"
            ]
          },
          "metadata": {
            "tags": []
          },
          "execution_count": 40
        }
      ]
    },
    {
      "cell_type": "code",
      "metadata": {
        "id": "_1b-S5BNJfws"
      },
      "source": [
        "df = pd.read_csv('/content/PROCEDURES_ICD.csv')\n",
        "df"
      ],
      "execution_count": null,
      "outputs": []
    },
    {
      "cell_type": "code",
      "metadata": {
        "id": "Qpg2tDhfJoQ6"
      },
      "source": [
        "df = pd.read_csv('/content/ICUSTAYS.csv')\n",
        "df"
      ],
      "execution_count": null,
      "outputs": []
    },
    {
      "cell_type": "code",
      "metadata": {
        "id": "_AAS5w41LxP3"
      },
      "source": [
        "df3  = pd.read_csv('/content/CPTEVENTS.csv')\n",
        "df3"
      ],
      "execution_count": null,
      "outputs": []
    },
    {
      "cell_type": "code",
      "metadata": {
        "id": "o5guHDlKKCxW"
      },
      "source": [
        "df = pd.read_csv('/content/OUTPUTEVENTS.csv')\n",
        "df"
      ],
      "execution_count": null,
      "outputs": []
    },
    {
      "cell_type": "code",
      "metadata": {
        "id": "7sK77CVqMOYi"
      },
      "source": [
        "df4 = pd.read_csv('/content/CALLOUT.csv')\n",
        "df4"
      ],
      "execution_count": null,
      "outputs": []
    },
    {
      "cell_type": "code",
      "metadata": {
        "colab": {
          "base_uri": "https://localhost:8080/",
          "height": 677
        },
        "id": "X3pumJSVTp8H",
        "outputId": "09034104-1bab-4090-8165-211bc110222b"
      },
      "source": [
        "data = pd.read_csv('/content/mimic3d.csv')\n",
        "data"
      ],
      "execution_count": 3,
      "outputs": [
        {
          "output_type": "execute_result",
          "data": {
            "text/html": [
              "<div>\n",
              "<style scoped>\n",
              "    .dataframe tbody tr th:only-of-type {\n",
              "        vertical-align: middle;\n",
              "    }\n",
              "\n",
              "    .dataframe tbody tr th {\n",
              "        vertical-align: top;\n",
              "    }\n",
              "\n",
              "    .dataframe thead th {\n",
              "        text-align: right;\n",
              "    }\n",
              "</style>\n",
              "<table border=\"1\" class=\"dataframe\">\n",
              "  <thead>\n",
              "    <tr style=\"text-align: right;\">\n",
              "      <th></th>\n",
              "      <th>hadm_id</th>\n",
              "      <th>gender</th>\n",
              "      <th>age</th>\n",
              "      <th>LOSdays</th>\n",
              "      <th>admit_type</th>\n",
              "      <th>admit_location</th>\n",
              "      <th>AdmitDiagnosis</th>\n",
              "      <th>insurance</th>\n",
              "      <th>religion</th>\n",
              "      <th>marital_status</th>\n",
              "      <th>ethnicity</th>\n",
              "      <th>NumCallouts</th>\n",
              "      <th>NumDiagnosis</th>\n",
              "      <th>NumProcs</th>\n",
              "      <th>AdmitProcedure</th>\n",
              "      <th>NumCPTevents</th>\n",
              "      <th>NumInput</th>\n",
              "      <th>NumLabs</th>\n",
              "      <th>NumMicroLabs</th>\n",
              "      <th>NumNotes</th>\n",
              "      <th>NumOutput</th>\n",
              "      <th>NumRx</th>\n",
              "      <th>NumProcEvents</th>\n",
              "      <th>NumTransfers</th>\n",
              "      <th>NumChartEvents</th>\n",
              "      <th>ExpiredHospital</th>\n",
              "      <th>TotalNumInteract</th>\n",
              "      <th>LOSgroupNum</th>\n",
              "    </tr>\n",
              "  </thead>\n",
              "  <tbody>\n",
              "    <tr>\n",
              "      <th>0</th>\n",
              "      <td>100001</td>\n",
              "      <td>F</td>\n",
              "      <td>35</td>\n",
              "      <td>6.17</td>\n",
              "      <td>EMERGENCY</td>\n",
              "      <td>CLINIC REFERRAL/PREMATURE</td>\n",
              "      <td>DIABETIC KETOACIDOSIS</td>\n",
              "      <td>Private</td>\n",
              "      <td>PROTESTANT QUAKER</td>\n",
              "      <td>DIVORCED</td>\n",
              "      <td>WHITE</td>\n",
              "      <td>0.16</td>\n",
              "      <td>2.59</td>\n",
              "      <td>0.00</td>\n",
              "      <td>na</td>\n",
              "      <td>1.30</td>\n",
              "      <td>25.12</td>\n",
              "      <td>43.44</td>\n",
              "      <td>0.65</td>\n",
              "      <td>0.05</td>\n",
              "      <td>5.19</td>\n",
              "      <td>14.91</td>\n",
              "      <td>1.13</td>\n",
              "      <td>0.65</td>\n",
              "      <td>398.70</td>\n",
              "      <td>0</td>\n",
              "      <td>493.89</td>\n",
              "      <td>1</td>\n",
              "    </tr>\n",
              "    <tr>\n",
              "      <th>1</th>\n",
              "      <td>100003</td>\n",
              "      <td>M</td>\n",
              "      <td>59</td>\n",
              "      <td>4.04</td>\n",
              "      <td>EMERGENCY</td>\n",
              "      <td>EMERGENCY ROOM ADMIT</td>\n",
              "      <td>UPPER GI BLEED</td>\n",
              "      <td>Private</td>\n",
              "      <td>NOT SPECIFIED</td>\n",
              "      <td>SINGLE</td>\n",
              "      <td>WHITE</td>\n",
              "      <td>0.25</td>\n",
              "      <td>2.23</td>\n",
              "      <td>0.99</td>\n",
              "      <td>Endosc control gast hem</td>\n",
              "      <td>1.98</td>\n",
              "      <td>13.61</td>\n",
              "      <td>55.94</td>\n",
              "      <td>1.24</td>\n",
              "      <td>1.59</td>\n",
              "      <td>5.45</td>\n",
              "      <td>7.18</td>\n",
              "      <td>0.99</td>\n",
              "      <td>1.24</td>\n",
              "      <td>373.02</td>\n",
              "      <td>0</td>\n",
              "      <td>465.71</td>\n",
              "      <td>1</td>\n",
              "    </tr>\n",
              "    <tr>\n",
              "      <th>2</th>\n",
              "      <td>100006</td>\n",
              "      <td>F</td>\n",
              "      <td>48</td>\n",
              "      <td>12.04</td>\n",
              "      <td>EMERGENCY</td>\n",
              "      <td>EMERGENCY ROOM ADMIT</td>\n",
              "      <td>COPD FLARE</td>\n",
              "      <td>Private</td>\n",
              "      <td>NOT SPECIFIED</td>\n",
              "      <td>SINGLE</td>\n",
              "      <td>BLACK/AFRICAN AMERICAN</td>\n",
              "      <td>0.00</td>\n",
              "      <td>0.75</td>\n",
              "      <td>0.17</td>\n",
              "      <td>Non-invasive mech vent</td>\n",
              "      <td>0.83</td>\n",
              "      <td>11.46</td>\n",
              "      <td>33.39</td>\n",
              "      <td>0.33</td>\n",
              "      <td>0.15</td>\n",
              "      <td>4.15</td>\n",
              "      <td>6.23</td>\n",
              "      <td>0.00</td>\n",
              "      <td>0.33</td>\n",
              "      <td>286.21</td>\n",
              "      <td>0</td>\n",
              "      <td>344.00</td>\n",
              "      <td>3</td>\n",
              "    </tr>\n",
              "    <tr>\n",
              "      <th>3</th>\n",
              "      <td>100007</td>\n",
              "      <td>F</td>\n",
              "      <td>73</td>\n",
              "      <td>7.29</td>\n",
              "      <td>EMERGENCY</td>\n",
              "      <td>EMERGENCY ROOM ADMIT</td>\n",
              "      <td>BOWEL OBSTRUCTION</td>\n",
              "      <td>Private</td>\n",
              "      <td>JEWISH</td>\n",
              "      <td>MARRIED</td>\n",
              "      <td>WHITE</td>\n",
              "      <td>0.41</td>\n",
              "      <td>0.69</td>\n",
              "      <td>0.27</td>\n",
              "      <td>Part sm bowel resect NEC</td>\n",
              "      <td>0.69</td>\n",
              "      <td>20.30</td>\n",
              "      <td>32.24</td>\n",
              "      <td>0.69</td>\n",
              "      <td>0.17</td>\n",
              "      <td>9.05</td>\n",
              "      <td>11.52</td>\n",
              "      <td>0.00</td>\n",
              "      <td>0.96</td>\n",
              "      <td>526.06</td>\n",
              "      <td>0</td>\n",
              "      <td>603.05</td>\n",
              "      <td>1</td>\n",
              "    </tr>\n",
              "    <tr>\n",
              "      <th>4</th>\n",
              "      <td>100009</td>\n",
              "      <td>M</td>\n",
              "      <td>60</td>\n",
              "      <td>4.88</td>\n",
              "      <td>EMERGENCY</td>\n",
              "      <td>TRANSFER FROM HOSP/EXTRAM</td>\n",
              "      <td>CORONARY ARTERY DISEASE</td>\n",
              "      <td>Private</td>\n",
              "      <td>CATHOLIC</td>\n",
              "      <td>MARRIED</td>\n",
              "      <td>WHITE</td>\n",
              "      <td>0.00</td>\n",
              "      <td>3.69</td>\n",
              "      <td>0.82</td>\n",
              "      <td>Aortocor bypas-3 cor art</td>\n",
              "      <td>2.25</td>\n",
              "      <td>20.49</td>\n",
              "      <td>50.61</td>\n",
              "      <td>0.61</td>\n",
              "      <td>0.34</td>\n",
              "      <td>16.19</td>\n",
              "      <td>25.00</td>\n",
              "      <td>2.87</td>\n",
              "      <td>2.05</td>\n",
              "      <td>554.92</td>\n",
              "      <td>0</td>\n",
              "      <td>679.84</td>\n",
              "      <td>1</td>\n",
              "    </tr>\n",
              "    <tr>\n",
              "      <th>...</th>\n",
              "      <td>...</td>\n",
              "      <td>...</td>\n",
              "      <td>...</td>\n",
              "      <td>...</td>\n",
              "      <td>...</td>\n",
              "      <td>...</td>\n",
              "      <td>...</td>\n",
              "      <td>...</td>\n",
              "      <td>...</td>\n",
              "      <td>...</td>\n",
              "      <td>...</td>\n",
              "      <td>...</td>\n",
              "      <td>...</td>\n",
              "      <td>...</td>\n",
              "      <td>...</td>\n",
              "      <td>...</td>\n",
              "      <td>...</td>\n",
              "      <td>...</td>\n",
              "      <td>...</td>\n",
              "      <td>...</td>\n",
              "      <td>...</td>\n",
              "      <td>...</td>\n",
              "      <td>...</td>\n",
              "      <td>...</td>\n",
              "      <td>...</td>\n",
              "      <td>...</td>\n",
              "      <td>...</td>\n",
              "      <td>...</td>\n",
              "    </tr>\n",
              "    <tr>\n",
              "      <th>58971</th>\n",
              "      <td>199993</td>\n",
              "      <td>M</td>\n",
              "      <td>60</td>\n",
              "      <td>24.58</td>\n",
              "      <td>EMERGENCY</td>\n",
              "      <td>TRANSFER FROM HOSP/EXTRAM</td>\n",
              "      <td>CORONARY ARTERY DISEASE</td>\n",
              "      <td>Private</td>\n",
              "      <td>CATHOLIC</td>\n",
              "      <td>DIVORCED</td>\n",
              "      <td>UNKNOWN/NOT SPECIFIED</td>\n",
              "      <td>0.00</td>\n",
              "      <td>0.37</td>\n",
              "      <td>0.53</td>\n",
              "      <td>Aortcor bypas-4+ cor art</td>\n",
              "      <td>0.94</td>\n",
              "      <td>330.92</td>\n",
              "      <td>66.56</td>\n",
              "      <td>0.20</td>\n",
              "      <td>0.13</td>\n",
              "      <td>23.11</td>\n",
              "      <td>8.01</td>\n",
              "      <td>0.00</td>\n",
              "      <td>0.08</td>\n",
              "      <td>1315.46</td>\n",
              "      <td>0</td>\n",
              "      <td>1746.31</td>\n",
              "      <td>3</td>\n",
              "    </tr>\n",
              "    <tr>\n",
              "      <th>58972</th>\n",
              "      <td>199994</td>\n",
              "      <td>F</td>\n",
              "      <td>58</td>\n",
              "      <td>9.75</td>\n",
              "      <td>EMERGENCY</td>\n",
              "      <td>EMERGENCY ROOM ADMIT</td>\n",
              "      <td>MENTAL STATUS CHANGES</td>\n",
              "      <td>Medicare</td>\n",
              "      <td>CATHOLIC</td>\n",
              "      <td>SINGLE</td>\n",
              "      <td>WHITE</td>\n",
              "      <td>0.00</td>\n",
              "      <td>0.92</td>\n",
              "      <td>0.41</td>\n",
              "      <td>Cont inv mec ven &lt;96 hrs</td>\n",
              "      <td>0.62</td>\n",
              "      <td>95.18</td>\n",
              "      <td>53.03</td>\n",
              "      <td>2.26</td>\n",
              "      <td>0.30</td>\n",
              "      <td>7.90</td>\n",
              "      <td>0.00</td>\n",
              "      <td>0.00</td>\n",
              "      <td>0.31</td>\n",
              "      <td>674.05</td>\n",
              "      <td>0</td>\n",
              "      <td>834.98</td>\n",
              "      <td>2</td>\n",
              "    </tr>\n",
              "    <tr>\n",
              "      <th>58973</th>\n",
              "      <td>199995</td>\n",
              "      <td>M</td>\n",
              "      <td>23</td>\n",
              "      <td>16.75</td>\n",
              "      <td>EMERGENCY</td>\n",
              "      <td>PHYS REFERRAL/NORMAL DELI</td>\n",
              "      <td>ROOT ABSCESS</td>\n",
              "      <td>Private</td>\n",
              "      <td>PROTESTANT QUAKER</td>\n",
              "      <td>SINGLE</td>\n",
              "      <td>WHITE</td>\n",
              "      <td>0.00</td>\n",
              "      <td>0.60</td>\n",
              "      <td>0.54</td>\n",
              "      <td>Opn/oth rep aort vlv-tis</td>\n",
              "      <td>0.06</td>\n",
              "      <td>12.66</td>\n",
              "      <td>27.28</td>\n",
              "      <td>0.54</td>\n",
              "      <td>0.10</td>\n",
              "      <td>6.27</td>\n",
              "      <td>5.79</td>\n",
              "      <td>0.00</td>\n",
              "      <td>0.36</td>\n",
              "      <td>207.10</td>\n",
              "      <td>0</td>\n",
              "      <td>261.30</td>\n",
              "      <td>3</td>\n",
              "    </tr>\n",
              "    <tr>\n",
              "      <th>58974</th>\n",
              "      <td>199998</td>\n",
              "      <td>M</td>\n",
              "      <td>69</td>\n",
              "      <td>5.88</td>\n",
              "      <td>EMERGENCY</td>\n",
              "      <td>TRANSFER FROM HOSP/EXTRAM</td>\n",
              "      <td>CORONARY ARTERY DISEASE</td>\n",
              "      <td>Medicare</td>\n",
              "      <td>CATHOLIC</td>\n",
              "      <td>MARRIED</td>\n",
              "      <td>WHITE</td>\n",
              "      <td>0.00</td>\n",
              "      <td>2.72</td>\n",
              "      <td>0.51</td>\n",
              "      <td>Aortocor bypas-2 cor art</td>\n",
              "      <td>0.17</td>\n",
              "      <td>25.85</td>\n",
              "      <td>49.83</td>\n",
              "      <td>0.17</td>\n",
              "      <td>0.35</td>\n",
              "      <td>12.24</td>\n",
              "      <td>17.69</td>\n",
              "      <td>0.00</td>\n",
              "      <td>1.02</td>\n",
              "      <td>426.87</td>\n",
              "      <td>0</td>\n",
              "      <td>537.42</td>\n",
              "      <td>1</td>\n",
              "    </tr>\n",
              "    <tr>\n",
              "      <th>58975</th>\n",
              "      <td>199999</td>\n",
              "      <td>M</td>\n",
              "      <td>88</td>\n",
              "      <td>5.50</td>\n",
              "      <td>EMERGENCY</td>\n",
              "      <td>CLINIC REFERRAL/PREMATURE</td>\n",
              "      <td>PNEUMONIA</td>\n",
              "      <td>Medicare</td>\n",
              "      <td>JEWISH</td>\n",
              "      <td>MARRIED</td>\n",
              "      <td>WHITE</td>\n",
              "      <td>0.00</td>\n",
              "      <td>2.36</td>\n",
              "      <td>0.18</td>\n",
              "      <td>Thoracentesis</td>\n",
              "      <td>1.27</td>\n",
              "      <td>6.73</td>\n",
              "      <td>39.82</td>\n",
              "      <td>1.64</td>\n",
              "      <td>0.40</td>\n",
              "      <td>4.73</td>\n",
              "      <td>5.82</td>\n",
              "      <td>0.55</td>\n",
              "      <td>0.73</td>\n",
              "      <td>550.36</td>\n",
              "      <td>0</td>\n",
              "      <td>614.59</td>\n",
              "      <td>1</td>\n",
              "    </tr>\n",
              "  </tbody>\n",
              "</table>\n",
              "<p>58976 rows × 28 columns</p>\n",
              "</div>"
            ],
            "text/plain": [
              "       hadm_id gender  age  ...  ExpiredHospital TotalNumInteract LOSgroupNum\n",
              "0       100001      F   35  ...                0           493.89           1\n",
              "1       100003      M   59  ...                0           465.71           1\n",
              "2       100006      F   48  ...                0           344.00           3\n",
              "3       100007      F   73  ...                0           603.05           1\n",
              "4       100009      M   60  ...                0           679.84           1\n",
              "...        ...    ...  ...  ...              ...              ...         ...\n",
              "58971   199993      M   60  ...                0          1746.31           3\n",
              "58972   199994      F   58  ...                0           834.98           2\n",
              "58973   199995      M   23  ...                0           261.30           3\n",
              "58974   199998      M   69  ...                0           537.42           1\n",
              "58975   199999      M   88  ...                0           614.59           1\n",
              "\n",
              "[58976 rows x 28 columns]"
            ]
          },
          "metadata": {
            "tags": []
          },
          "execution_count": 3
        }
      ]
    },
    {
      "cell_type": "code",
      "metadata": {
        "id": "WlVWObyGZmWG"
      },
      "source": [
        "data = data.dropna()"
      ],
      "execution_count": 9,
      "outputs": []
    },
    {
      "cell_type": "code",
      "metadata": {
        "colab": {
          "base_uri": "https://localhost:8080/",
          "height": 929
        },
        "id": "My1e8SutZrG6",
        "outputId": "1690ea91-1169-478d-a08b-13efdcf48d77"
      },
      "source": [
        "print(data.shape)\n",
        "data.info()\n",
        "data.describe()"
      ],
      "execution_count": 10,
      "outputs": [
        {
          "output_type": "stream",
          "text": [
            "(48588, 28)\n",
            "<class 'pandas.core.frame.DataFrame'>\n",
            "Int64Index: 48588 entries, 0 to 58975\n",
            "Data columns (total 28 columns):\n",
            " #   Column            Non-Null Count  Dtype  \n",
            "---  ------            --------------  -----  \n",
            " 0   hadm_id           48588 non-null  int64  \n",
            " 1   gender            48588 non-null  object \n",
            " 2   age               48588 non-null  int64  \n",
            " 3   LOSdays           48588 non-null  float64\n",
            " 4   admit_type        48588 non-null  object \n",
            " 5   admit_location    48588 non-null  object \n",
            " 6   AdmitDiagnosis    48588 non-null  object \n",
            " 7   insurance         48588 non-null  object \n",
            " 8   religion          48588 non-null  object \n",
            " 9   marital_status    48588 non-null  object \n",
            " 10  ethnicity         48588 non-null  object \n",
            " 11  NumCallouts       48588 non-null  float64\n",
            " 12  NumDiagnosis      48588 non-null  float64\n",
            " 13  NumProcs          48588 non-null  float64\n",
            " 14  AdmitProcedure    48588 non-null  object \n",
            " 15  NumCPTevents      48588 non-null  float64\n",
            " 16  NumInput          48588 non-null  float64\n",
            " 17  NumLabs           48588 non-null  float64\n",
            " 18  NumMicroLabs      48588 non-null  float64\n",
            " 19  NumNotes          48588 non-null  float64\n",
            " 20  NumOutput         48588 non-null  float64\n",
            " 21  NumRx             48588 non-null  float64\n",
            " 22  NumProcEvents     48588 non-null  float64\n",
            " 23  NumTransfers      48588 non-null  float64\n",
            " 24  NumChartEvents    48588 non-null  float64\n",
            " 25  ExpiredHospital   48588 non-null  int64  \n",
            " 26  TotalNumInteract  48588 non-null  float64\n",
            " 27  LOSgroupNum       48588 non-null  int64  \n",
            "dtypes: float64(15), int64(4), object(9)\n",
            "memory usage: 10.8+ MB\n"
          ],
          "name": "stdout"
        },
        {
          "output_type": "execute_result",
          "data": {
            "text/html": [
              "<div>\n",
              "<style scoped>\n",
              "    .dataframe tbody tr th:only-of-type {\n",
              "        vertical-align: middle;\n",
              "    }\n",
              "\n",
              "    .dataframe tbody tr th {\n",
              "        vertical-align: top;\n",
              "    }\n",
              "\n",
              "    .dataframe thead th {\n",
              "        text-align: right;\n",
              "    }\n",
              "</style>\n",
              "<table border=\"1\" class=\"dataframe\">\n",
              "  <thead>\n",
              "    <tr style=\"text-align: right;\">\n",
              "      <th></th>\n",
              "      <th>hadm_id</th>\n",
              "      <th>age</th>\n",
              "      <th>LOSdays</th>\n",
              "      <th>NumCallouts</th>\n",
              "      <th>NumDiagnosis</th>\n",
              "      <th>NumProcs</th>\n",
              "      <th>NumCPTevents</th>\n",
              "      <th>NumInput</th>\n",
              "      <th>NumLabs</th>\n",
              "      <th>NumMicroLabs</th>\n",
              "      <th>NumNotes</th>\n",
              "      <th>NumOutput</th>\n",
              "      <th>NumRx</th>\n",
              "      <th>NumProcEvents</th>\n",
              "      <th>NumTransfers</th>\n",
              "      <th>NumChartEvents</th>\n",
              "      <th>ExpiredHospital</th>\n",
              "      <th>TotalNumInteract</th>\n",
              "      <th>LOSgroupNum</th>\n",
              "    </tr>\n",
              "  </thead>\n",
              "  <tbody>\n",
              "    <tr>\n",
              "      <th>count</th>\n",
              "      <td>48588.000000</td>\n",
              "      <td>48588.000000</td>\n",
              "      <td>48588.000000</td>\n",
              "      <td>48588.000000</td>\n",
              "      <td>48588.000000</td>\n",
              "      <td>48588.000000</td>\n",
              "      <td>48588.000000</td>\n",
              "      <td>48588.000000</td>\n",
              "      <td>48588.000000</td>\n",
              "      <td>48588.000000</td>\n",
              "      <td>48588.000000</td>\n",
              "      <td>48588.000000</td>\n",
              "      <td>48588.000000</td>\n",
              "      <td>48588.000000</td>\n",
              "      <td>48588.000000</td>\n",
              "      <td>48588.000000</td>\n",
              "      <td>48588.000000</td>\n",
              "      <td>48588.000000</td>\n",
              "      <td>48588.000000</td>\n",
              "    </tr>\n",
              "    <tr>\n",
              "      <th>mean</th>\n",
              "      <td>149973.267494</td>\n",
              "      <td>61.143657</td>\n",
              "      <td>9.927714</td>\n",
              "      <td>0.116635</td>\n",
              "      <td>2.641571</td>\n",
              "      <td>0.747433</td>\n",
              "      <td>1.227098</td>\n",
              "      <td>31.806490</td>\n",
              "      <td>49.626858</td>\n",
              "      <td>1.306942</td>\n",
              "      <td>3.303416</td>\n",
              "      <td>7.895968</td>\n",
              "      <td>10.850128</td>\n",
              "      <td>0.775571</td>\n",
              "      <td>0.943240</td>\n",
              "      <td>550.278174</td>\n",
              "      <td>0.105993</td>\n",
              "      <td>661.519524</td>\n",
              "      <td>1.416955</td>\n",
              "    </tr>\n",
              "    <tr>\n",
              "      <th>std</th>\n",
              "      <td>28912.630798</td>\n",
              "      <td>16.855976</td>\n",
              "      <td>10.840186</td>\n",
              "      <td>0.170397</td>\n",
              "      <td>7.422006</td>\n",
              "      <td>3.096268</td>\n",
              "      <td>1.970410</td>\n",
              "      <td>63.828069</td>\n",
              "      <td>69.689082</td>\n",
              "      <td>3.800919</td>\n",
              "      <td>58.273692</td>\n",
              "      <td>7.427768</td>\n",
              "      <td>12.101299</td>\n",
              "      <td>2.077192</td>\n",
              "      <td>2.088998</td>\n",
              "      <td>657.978437</td>\n",
              "      <td>0.307832</td>\n",
              "      <td>781.324433</td>\n",
              "      <td>1.109164</td>\n",
              "    </tr>\n",
              "    <tr>\n",
              "      <th>min</th>\n",
              "      <td>100001.000000</td>\n",
              "      <td>0.000000</td>\n",
              "      <td>0.000000</td>\n",
              "      <td>0.000000</td>\n",
              "      <td>0.000000</td>\n",
              "      <td>0.000000</td>\n",
              "      <td>0.000000</td>\n",
              "      <td>0.000000</td>\n",
              "      <td>0.000000</td>\n",
              "      <td>0.000000</td>\n",
              "      <td>0.000000</td>\n",
              "      <td>0.000000</td>\n",
              "      <td>0.000000</td>\n",
              "      <td>0.000000</td>\n",
              "      <td>0.000000</td>\n",
              "      <td>0.000000</td>\n",
              "      <td>0.000000</td>\n",
              "      <td>0.000000</td>\n",
              "      <td>0.000000</td>\n",
              "    </tr>\n",
              "    <tr>\n",
              "      <th>25%</th>\n",
              "      <td>124929.500000</td>\n",
              "      <td>51.000000</td>\n",
              "      <td>4.000000</td>\n",
              "      <td>0.000000</td>\n",
              "      <td>0.870000</td>\n",
              "      <td>0.210000</td>\n",
              "      <td>0.410000</td>\n",
              "      <td>5.930000</td>\n",
              "      <td>31.990000</td>\n",
              "      <td>0.197500</td>\n",
              "      <td>0.140000</td>\n",
              "      <td>2.830000</td>\n",
              "      <td>6.330000</td>\n",
              "      <td>0.000000</td>\n",
              "      <td>0.380000</td>\n",
              "      <td>236.530000</td>\n",
              "      <td>0.000000</td>\n",
              "      <td>300.790000</td>\n",
              "      <td>1.000000</td>\n",
              "    </tr>\n",
              "    <tr>\n",
              "      <th>50%</th>\n",
              "      <td>150025.000000</td>\n",
              "      <td>62.000000</td>\n",
              "      <td>6.880000</td>\n",
              "      <td>0.070000</td>\n",
              "      <td>1.480000</td>\n",
              "      <td>0.420000</td>\n",
              "      <td>1.130000</td>\n",
              "      <td>15.080000</td>\n",
              "      <td>40.880000</td>\n",
              "      <td>0.640000</td>\n",
              "      <td>0.310000</td>\n",
              "      <td>6.280000</td>\n",
              "      <td>9.280000</td>\n",
              "      <td>0.000000</td>\n",
              "      <td>0.630000</td>\n",
              "      <td>427.160000</td>\n",
              "      <td>0.000000</td>\n",
              "      <td>513.635000</td>\n",
              "      <td>1.000000</td>\n",
              "    </tr>\n",
              "    <tr>\n",
              "      <th>75%</th>\n",
              "      <td>175057.250000</td>\n",
              "      <td>75.000000</td>\n",
              "      <td>11.880000</td>\n",
              "      <td>0.180000</td>\n",
              "      <td>2.570000</td>\n",
              "      <td>0.730000</td>\n",
              "      <td>1.660000</td>\n",
              "      <td>36.320000</td>\n",
              "      <td>52.660000</td>\n",
              "      <td>1.510000</td>\n",
              "      <td>0.770000</td>\n",
              "      <td>11.270000</td>\n",
              "      <td>12.960000</td>\n",
              "      <td>1.080000</td>\n",
              "      <td>1.000000</td>\n",
              "      <td>721.780000</td>\n",
              "      <td>0.000000</td>\n",
              "      <td>844.055000</td>\n",
              "      <td>2.000000</td>\n",
              "    </tr>\n",
              "    <tr>\n",
              "      <th>max</th>\n",
              "      <td>199999.000000</td>\n",
              "      <td>89.000000</td>\n",
              "      <td>294.630000</td>\n",
              "      <td>4.760000</td>\n",
              "      <td>450.000000</td>\n",
              "      <td>250.000000</td>\n",
              "      <td>225.000000</td>\n",
              "      <td>6825.000000</td>\n",
              "      <td>5175.000000</td>\n",
              "      <td>375.000000</td>\n",
              "      <td>5625.000000</td>\n",
              "      <td>375.000000</td>\n",
              "      <td>750.000000</td>\n",
              "      <td>100.000000</td>\n",
              "      <td>125.000000</td>\n",
              "      <td>49325.000000</td>\n",
              "      <td>1.000000</td>\n",
              "      <td>68600.000000</td>\n",
              "      <td>3.000000</td>\n",
              "    </tr>\n",
              "  </tbody>\n",
              "</table>\n",
              "</div>"
            ],
            "text/plain": [
              "             hadm_id           age  ...  TotalNumInteract   LOSgroupNum\n",
              "count   48588.000000  48588.000000  ...      48588.000000  48588.000000\n",
              "mean   149973.267494     61.143657  ...        661.519524      1.416955\n",
              "std     28912.630798     16.855976  ...        781.324433      1.109164\n",
              "min    100001.000000      0.000000  ...          0.000000      0.000000\n",
              "25%    124929.500000     51.000000  ...        300.790000      1.000000\n",
              "50%    150025.000000     62.000000  ...        513.635000      1.000000\n",
              "75%    175057.250000     75.000000  ...        844.055000      2.000000\n",
              "max    199999.000000     89.000000  ...      68600.000000      3.000000\n",
              "\n",
              "[8 rows x 19 columns]"
            ]
          },
          "metadata": {
            "tags": []
          },
          "execution_count": 10
        }
      ]
    },
    {
      "cell_type": "code",
      "metadata": {
        "colab": {
          "base_uri": "https://localhost:8080/",
          "height": 1000
        },
        "id": "_Z6Wxq7lZ3oG",
        "outputId": "376a83d4-4947-4ef8-a8b6-26643385c60f"
      },
      "source": [
        "data.groupby('LOSgroupNum').size().plot.bar()\n",
        "plt.show()\n",
        "data.groupby('admit_type').size().plot.bar()\n",
        "plt.show()\n",
        "data.groupby('admit_location').size().plot.bar()\n",
        "plt.show()"
      ],
      "execution_count": 11,
      "outputs": [
        {
          "output_type": "display_data",
          "data": {
            "image/png": "[encoded data removed]",
            "text/plain": [
              "<Figure size 432x288 with 1 Axes>"
            ]
          },
          "metadata": {
            "tags": [],
            "needs_background": "light"
          }
        },
        {
          "output_type": "display_data",
          "data": {
            "image/png": "[encoded data removed]",
            "text/plain": [
              "<Figure size 432x288 with 1 Axes>"
            ]
          },
          "metadata": {
            "tags": [],
            "needs_background": "light"
          }
        },
        {
          "output_type": "display_data",
          "data": {
            "image/png": "[encoded data removed]",
            "text/plain": [
              "<Figure size 432x288 with 1 Axes>"
            ]
          },
          "metadata": {
            "tags": [],
            "needs_background": "light"
          }
        }
      ]
    },
    {
      "cell_type": "code",
      "metadata": {
        "id": "4ihfiU74aBYw",
        "colab": {
          "base_uri": "https://localhost:8080/"
        },
        "outputId": "49f96b3d-8019-4bb3-f4ad-729c53fdcafb"
      },
      "source": [
        "import os\n",
        "from operator import itemgetter    \n",
        "import numpy as np\n",
        "import pandas as pd\n",
        "import matplotlib.pyplot as plt\n",
        "import warnings\n",
        "warnings.filterwarnings('ignore')\n",
        "get_ipython().magic(u'matplotlib inline')\n",
        "plt.style.use('ggplot')\n",
        "\n",
        "from sklearn.model_selection import StratifiedShuffleSplit\n",
        "\n",
        "from sklearn.tree import DecisionTreeRegressor\n",
        "from sklearn import preprocessing\n",
        "from pandas.plotting import scatter_matrix\n",
        "from sklearn.preprocessing import RobustScaler, StandardScaler, LabelEncoder, MinMaxScaler, OneHotEncoder, LabelBinarizer\n",
        "from sklearn.metrics import mean_squared_error, accuracy_score, mean_absolute_error\n",
        "#from sklearn.cross_validation import KFold, cross_val_score\n",
        "from sklearn.model_selection import cross_val_score, GridSearchCV, RandomizedSearchCV, KFold, cross_val_predict, StratifiedKFold, train_test_split, learning_curve, ShuffleSplit\n",
        "from sklearn.model_selection import train_test_split\n",
        "from sklearn import model_selection, preprocessing\n",
        "from sklearn.metrics import classification_report, confusion_matrix, accuracy_score\n",
        "from sklearn.model_selection import cross_val_score, GridSearchCV, RandomizedSearchCV,KFold, cross_val_predict, StratifiedKFold, train_test_split, learning_curve, ShuffleSplit\n",
        "from sklearn.linear_model import LogisticRegression\n",
        "from sklearn.tree import DecisionTreeClassifier\n",
        "from sklearn.neighbors import KNeighborsClassifier\n",
        "from sklearn.discriminant_analysis import LinearDiscriminantAnalysis\n",
        "from sklearn.naive_bayes import GaussianNB\n",
        "from sklearn.svm import SVC \n",
        "from sklearn.linear_model import SGDClassifier\n",
        "from sklearn.ensemble import RandomForestClassifier\n",
        "from sklearn.model_selection import GridSearchCV, ShuffleSplit\n",
        "from sklearn.metrics import confusion_matrix, precision_score, recall_score, accuracy_score, f1_score\n",
        "from sklearn.model_selection import cross_val_predict\n",
        "from sklearn.metrics import confusion_matrix\n",
        "from sklearn.metrics import precision_recall_curve, average_precision_score, auc\n",
        "#from sklearn.utils.fixes import signature\n",
        "from sklearn.metrics import roc_curve\n",
        "from sklearn.metrics import roc_auc_score\n",
        "\n",
        "from mlxtend.plotting import plot_learning_curves\n",
        "from mlxtend.preprocessing import shuffle_arrays_unison\n",
        "\n",
        "import tensorflow as tf\n",
        "\n",
        "from keras import models, regularizers, layers, optimizers, losses, metrics\n",
        "from keras.models import Sequential\n",
        "from keras.layers import Dense\n",
        "from keras.utils import np_utils\n",
        "from keras.utils import to_categorical\n",
        "\n",
        "print(os.getcwd())\n",
        "print(\"Modules imported \\n\")\n",
        "import os\n",
        "#print(os.listdir(\"../input/\"))"
      ],
      "execution_count": 14,
      "outputs": [
        {
          "output_type": "stream",
          "text": [
            "/content\n",
            "Modules imported \n",
            "\n"
          ],
          "name": "stdout"
        }
      ]
    },
    {
      "cell_type": "code",
      "metadata": {
        "colab": {
          "base_uri": "https://localhost:8080/"
        },
        "id": "e01avk-_a8PI",
        "outputId": "3a9cde7d-a9a7-446f-dd0e-d900e498c5d5"
      },
      "source": [
        "y = data['LOSgroupNum']\n",
        "X = data.drop('LOSgroupNum', 1)\n",
        "X = X.drop('LOSdays', 1)\n",
        "X = X.drop('ExpiredHospital', 1)\n",
        "X = X.drop('AdmitDiagnosis', 1)\n",
        "X = X.drop('AdmitProcedure', 1)\n",
        "X = X.drop('marital_status', 1)\n",
        "X = X.drop('ethnicity', 1)\n",
        "X = X.drop('religion', 1)\n",
        "X = X.drop('insurance', 1)\n",
        "\n",
        "print(\"y - Labels\", y.shape)\n",
        "print(\"X - No Label No id \", X.shape)\n",
        "print(X.columns)"
      ],
      "execution_count": 15,
      "outputs": [
        {
          "output_type": "stream",
          "text": [
            "y - Labels (48588,)\n",
            "X - No Label No id  (48588, 19)\n",
            "Index(['hadm_id', 'gender', 'age', 'admit_type', 'admit_location',\n",
            "       'NumCallouts', 'NumDiagnosis', 'NumProcs', 'NumCPTevents', 'NumInput',\n",
            "       'NumLabs', 'NumMicroLabs', 'NumNotes', 'NumOutput', 'NumRx',\n",
            "       'NumProcEvents', 'NumTransfers', 'NumChartEvents', 'TotalNumInteract'],\n",
            "      dtype='object')\n"
          ],
          "name": "stdout"
        }
      ]
    },
    {
      "cell_type": "code",
      "metadata": {
        "colab": {
          "base_uri": "https://localhost:8080/"
        },
        "id": "dLBL3K_NbD5Z",
        "outputId": "240fe354-bc65-41a0-aeed-6b9a3e249e4e"
      },
      "source": [
        "print(X.shape)\n",
        "categorical_columns = [\n",
        "                    'gender',                     \n",
        "                    'admit_type',\n",
        "                    'admit_location'\n",
        "                      ]\n",
        "\n",
        "for col in categorical_columns:\n",
        "    #if the original column is present replace it with a one-hot\n",
        "    if col in X.columns:\n",
        "        one_hot_encoded = pd.get_dummies(X[col])\n",
        "        X = X.drop(col, axis=1)\n",
        "        X = X.join(one_hot_encoded, lsuffix='_left', rsuffix='_right')\n",
        "        \n",
        "print(X.shape)"
      ],
      "execution_count": 16,
      "outputs": [
        {
          "output_type": "stream",
          "text": [
            "(48588, 19)\n",
            "(48588, 31)\n"
          ],
          "name": "stdout"
        }
      ]
    },
    {
      "cell_type": "code",
      "metadata": {
        "colab": {
          "base_uri": "https://localhost:8080/"
        },
        "id": "eRACHmsQbIW0",
        "outputId": "0b66aa61-694e-45fe-a34f-ed880607ab15"
      },
      "source": [
        "print(data.shape)\n",
        "print(X.shape)\n",
        "#XnotNorm = np.array(X.copy())\n",
        "XnotNorm = X.copy()\n",
        "print('XnotNorm ', XnotNorm.shape)\n",
        "\n",
        "ynotNorm = y.copy()\n",
        "print('ynotNorm ', ynotNorm.shape)\n"
      ],
      "execution_count": 17,
      "outputs": [
        {
          "output_type": "stream",
          "text": [
            "(48588, 28)\n",
            "(48588, 31)\n",
            "XnotNorm  (48588, 31)\n",
            "ynotNorm  (48588,)\n"
          ],
          "name": "stdout"
        }
      ]
    },
    {
      "cell_type": "code",
      "metadata": {
        "colab": {
          "base_uri": "https://localhost:8080/"
        },
        "id": "JgwQvYEwbQgW",
        "outputId": "dd0a7350-0717-479c-bb68-2f7214e60479"
      },
      "source": [
        "x = XnotNorm.values #returns a numpy array\n",
        "scaler = preprocessing.StandardScaler()\n",
        "x_scaled = scaler.fit_transform(x)\n",
        "XNorm = pd.DataFrame(x_scaled, columns=XnotNorm.columns)\n",
        "#print(XNorm)\n",
        "#print(y)\n",
        "print('X normalized')"
      ],
      "execution_count": 18,
      "outputs": [
        {
          "output_type": "stream",
          "text": [
            "X normalized\n"
          ],
          "name": "stdout"
        }
      ]
    },
    {
      "cell_type": "code",
      "metadata": {
        "colab": {
          "base_uri": "https://localhost:8080/"
        },
        "id": "_D2bXrpCbXQ6",
        "outputId": "78af6986-8b69-4065-9c41-f6b0474a635c"
      },
      "source": [
        "X_train, X_test, y_train, y_test = train_test_split(XNorm, y, test_size=0.2, random_state=7)\n",
        "print ('X_train: ', X_train.shape)\n",
        "print ('X_test: ', X_test.shape)\n",
        "print ('y_train: ', y_train.shape)\n",
        "print ('y_test: ', y_test.shape)"
      ],
      "execution_count": 21,
      "outputs": [
        {
          "output_type": "stream",
          "text": [
            "X_train:  (38870, 31)\n",
            "X_test:  (9718, 31)\n",
            "y_train:  (38870,)\n",
            "y_test:  (9718,)\n"
          ],
          "name": "stdout"
        }
      ]
    },
    {
      "cell_type": "code",
      "metadata": {
        "colab": {
          "base_uri": "https://localhost:8080/"
        },
        "id": "X5B3NbIobcI7",
        "outputId": "62ebbfec-1d44-48c7-9be5-b26c2be191d9"
      },
      "source": [
        "seed = 42\n",
        "scoring = 'accuracy' \n",
        "\n",
        "# Spot Check Algorithms\n",
        "Mymodels = []\n",
        "#Mymodels.append(('LogReg', LogisticRegression()))\n",
        "Mymodels.append(('RandomForestClassifier', RandomForestClassifier()))\n",
        "Mymodels.append(('SGDclassifier', SGDClassifier()))\n",
        "#Mymodels.append(('KNearestNeighbors', KNeighborsClassifier()))\n",
        "Mymodels.append(('DecisionTreeClassifier', DecisionTreeClassifier()))\n",
        "#Mymodels.append(('GaussianNB', GaussianNB()))\n",
        "#Mymodels.append(('SVM', SVC()))\n",
        "\n",
        "# Evaluate each model in turn\n",
        "results = []\n",
        "names = []\n",
        "for name, model in Mymodels:\n",
        "    kfold = model_selection.KFold(n_splits=10, random_state=seed)\n",
        "    cv_results = model_selection.cross_val_score(model, X_train, y_train, cv=kfold, scoring=scoring)\n",
        "    results.append(cv_results)\n",
        "    names.append(name)\n",
        "    msg = \"%s: %f (%f)\" % (name, cv_results.mean(), cv_results.std())\n",
        "    print(msg) "
      ],
      "execution_count": 22,
      "outputs": [
        {
          "output_type": "stream",
          "text": [
            "RandomForestClassifier: 0.895549 (0.002832)\n",
            "SGDclassifier: 0.646951 (0.017081)\n",
            "DecisionTreeClassifier: 0.852611 (0.006188)\n"
          ],
          "name": "stdout"
        }
      ]
    },
    {
      "cell_type": "code",
      "metadata": {
        "colab": {
          "base_uri": "https://localhost:8080/"
        },
        "id": "H6axS9NxdENM",
        "outputId": "248e0a57-a9f2-44fc-81a6-93df2e20a857"
      },
      "source": [
        "\n",
        "model = RandomForestClassifier()\n",
        "\n",
        "param_grid = [{}]\n",
        "\n",
        "grid_search = GridSearchCV(model, param_grid, cv=5, scoring=scoring)\n",
        "grid_search.fit(XNorm, y)\n",
        "\n",
        "print(grid_search.best_estimator_)"
      ],
      "execution_count": 30,
      "outputs": [
        {
          "output_type": "stream",
          "text": [
            "RandomForestClassifier(bootstrap=True, ccp_alpha=0.0, class_weight=None,\n",
            "                       criterion='gini', max_depth=None, max_features='auto',\n",
            "                       max_leaf_nodes=None, max_samples=None,\n",
            "                       min_impurity_decrease=0.0, min_impurity_split=None,\n",
            "                       min_samples_leaf=1, min_samples_split=2,\n",
            "                       min_weight_fraction_leaf=0.0, n_estimators=100,\n",
            "                       n_jobs=None, oob_score=False, random_state=None,\n",
            "                       verbose=0, warm_start=False)\n"
          ],
          "name": "stdout"
        }
      ]
    },
    {
      "cell_type": "code",
      "metadata": {
        "id": "mIlDRraqgHW5"
      },
      "source": [
        "model = RandomForestClassifier(bootstrap=True, class_weight=None, criterion='gini',\n",
        "            max_depth=None, max_features='auto', max_leaf_nodes=None,\n",
        "            min_impurity_decrease=0.0, min_impurity_split=None,\n",
        "            min_samples_leaf=1, min_samples_split=2,\n",
        "            min_weight_fraction_leaf=0.0, n_estimators=10, n_jobs=1,\n",
        "            oob_score=False, random_state=None, verbose=0,\n",
        "            warm_start=False)"
      ],
      "execution_count": 31,
      "outputs": []
    },
    {
      "cell_type": "code",
      "metadata": {
        "colab": {
          "base_uri": "https://localhost:8080/",
          "height": 1000
        },
        "id": "AA1joXzEgKvw",
        "outputId": "06521c02-5f05-4b56-b302-d2ddde8dc6cf"
      },
      "source": [
        "\n",
        "trainFinalFI = XNorm\n",
        "yFinalFI = y\n",
        "\n",
        "model.fit(trainFinalFI,yFinalFI)\n",
        "\n",
        "FI_model = pd.DataFrame({\"Feature Importance\":model.feature_importances_,}, index=trainFinalFI.columns)\n",
        "FI_model[FI_model[\"Feature Importance\"] > 0.005].sort_values(\"Feature Importance\").plot(kind=\"barh\",figsize=(15,25))\n",
        "plt.xticks(rotation=90)\n",
        "plt.xticks(rotation=90)\n",
        "plt.show()"
      ],
      "execution_count": 32,
      "outputs": [
        {
          "output_type": "display_data",
          "data": {
            "image/png": "[encoded data removed]",
            "text/plain": [
              "<Figure size 1080x1800 with 1 Axes>"
            ]
          },
          "metadata": {
            "tags": []
          }
        }
      ]
    },
    {
      "cell_type": "code",
      "metadata": {
        "colab": {
          "base_uri": "https://localhost:8080/"
        },
        "id": "AM-5H39UgOyS",
        "outputId": "f68bc1a6-f0e1-40fc-c450-fd4f9332f3a3"
      },
      "source": [
        "FI_model = pd.DataFrame({\"Feature Importance\":model.feature_importances_,}, index=trainFinalFI.columns)\n",
        "FI_model=FI_model.sort_values('Feature Importance', ascending = False)\n",
        "print(FI_model[FI_model[\"Feature Importance\"] > 0.001])"
      ],
      "execution_count": 33,
      "outputs": [
        {
          "output_type": "stream",
          "text": [
            "                           Feature Importance\n",
            "NumTransfers                         0.212255\n",
            "NumCallouts                          0.162399\n",
            "NumDiagnosis                         0.140654\n",
            "NumNotes                             0.125006\n",
            "NumMicroLabs                         0.040011\n",
            "NumProcs                             0.035053\n",
            "NumRx                                0.034699\n",
            "TotalNumInteract                     0.032144\n",
            "NumChartEvents                       0.029493\n",
            "NumLabs                              0.027560\n",
            "NumCPTevents                         0.025242\n",
            "NumInput                             0.024918\n",
            "NumOutput                            0.022936\n",
            "NumProcEvents                        0.022230\n",
            "age                                  0.020682\n",
            "hadm_id                              0.019444\n",
            "PHYS REFERRAL/NORMAL DELI            0.003887\n",
            "EMERGENCY ROOM ADMIT                 0.003375\n",
            "F                                    0.003027\n",
            "ELECTIVE                             0.003025\n",
            "M                                    0.002812\n",
            "EMERGENCY                            0.002702\n",
            "CLINIC REFERRAL/PREMATURE            0.002593\n",
            "TRANSFER FROM HOSP/EXTRAM            0.002311\n"
          ],
          "name": "stdout"
        }
      ]
    },
    {
      "cell_type": "code",
      "metadata": {
        "id": "-vhWZN9wgWIx"
      },
      "source": [
        "def plot_learning_curve(estimator, title, X, y, ylim=None, cv=None,\n",
        "                        n_jobs=1, train_sizes=np.linspace(.1, 1.0, 10)):\n",
        "    plt.figure()\n",
        "    plt.title(title)\n",
        "    if ylim is not None:\n",
        "        plt.ylim(*ylim)\n",
        "    plt.xlabel(\"Training examples\")\n",
        "    plt.ylabel(\"Error\")\n",
        "    train_sizes, train_scores, test_scores = learning_curve(\n",
        "        estimator, X, y, cv=cv, n_jobs=n_jobs, train_sizes=train_sizes)\n",
        "    train_scores_mean = 1-np.mean(train_scores, axis=1)\n",
        "    train_scores_std = np.std(train_scores, axis=1)\n",
        "    test_scores_mean = 1-np.mean(test_scores, axis=1)\n",
        "    test_scores_std = np.std(test_scores, axis=1)\n",
        "    plt.grid()\n",
        "\n",
        "    plt.fill_between(train_sizes, train_scores_mean - train_scores_std,\n",
        "                     train_scores_mean + train_scores_std, alpha=0.1,\n",
        "                     color=\"r\")\n",
        "    plt.fill_between(train_sizes, test_scores_mean - test_scores_std,\n",
        "                     test_scores_mean + test_scores_std, alpha=0.1, color=\"g\")\n",
        "    plt.plot(train_sizes, train_scores_mean, 'o-', color=\"r\",\n",
        "             label=\"Training score\")\n",
        "    plt.plot(train_sizes, test_scores_mean, 'o-', color=\"g\",\n",
        "             label=\"Cross-validation score\")\n",
        "\n",
        "    plt.legend(loc=\"best\")\n",
        "    return plt"
      ],
      "execution_count": 34,
      "outputs": []
    },
    {
      "cell_type": "code",
      "metadata": {
        "colab": {
          "base_uri": "https://localhost:8080/",
          "height": 316
        },
        "id": "_sF6-ZNugfJC",
        "outputId": "663357ee-18b3-4e50-a48b-0f871099e5e0"
      },
      "source": [
        "title = \"Learning Curves \"\n",
        "cv = ShuffleSplit(n_splits=7, test_size=0.2)\n",
        "plot_learning_curve(model, title, X_train, y_train, cv=cv, n_jobs=4)"
      ],
      "execution_count": 35,
      "outputs": [
        {
          "output_type": "execute_result",
          "data": {
            "text/plain": [
              "<module 'matplotlib.pyplot' from '/usr/local/lib/python3.7/dist-packages/matplotlib/pyplot.py'>"
            ]
          },
          "metadata": {
            "tags": []
          },
          "execution_count": 35
        },
        {
          "output_type": "display_data",
          "data": {
            "image/png": "[encoded data removed]",
            "text/plain": [
              "<Figure size 432x288 with 1 Axes>"
            ]
          },
          "metadata": {
            "tags": []
          }
        }
      ]
    },
    {
      "cell_type": "code",
      "metadata": {
        "colab": {
          "base_uri": "https://localhost:8080/"
        },
        "id": "RtaY9GjzgnKi",
        "outputId": "367a2a85-1184-4fac-939b-74cd6b739a48"
      },
      "source": [
        "X_train, X_test, y_train, y_test = train_test_split(XNorm, y, test_size=0.2, random_state=42)\n",
        "print ('X_train: ', X_train.shape)\n",
        "print ('X_test: ', X_test.shape)\n",
        "print ('y_train: ', y_train.shape)\n",
        "print ('y_test: ', y_test.shape)"
      ],
      "execution_count": null,
      "outputs": [
        {
          "output_type": "stream",
          "text": [
            "X_train:  (38870, 31)\n",
            "X_test:  (9718, 31)\n",
            "y_train:  (38870,)\n",
            "y_test:  (9718,)\n"
          ],
          "name": "stdout"
        }
      ]
    },
    {
      "cell_type": "code",
      "metadata": {
        "colab": {
          "base_uri": "https://localhost:8080/"
        },
        "id": "aDcAFXl0gyxx",
        "outputId": "8c048b7a-4d56-4527-bd0f-c5c1577300ac"
      },
      "source": [
        "model.fit(X_train, y_train)\n",
        "final_predictions = model.predict(X_test)\n",
        "\n",
        "#final_acc = accuracy(y_test, final_predictions)\n",
        "# Confusion matrix\n",
        "\n",
        "conf_mx = confusion_matrix(y_test, final_predictions)\n",
        "print('conf_mx ready')"
      ],
      "execution_count": null,
      "outputs": [
        {
          "output_type": "stream",
          "text": [
            "conf_mx ready\n"
          ],
          "name": "stdout"
        }
      ]
    },
    {
      "cell_type": "code",
      "metadata": {
        "id": "F9isDY8CgrF0"
      },
      "source": [
        "def plot_confusion_matrix(cm,target_names,title='Confusion Matrix',cmap=None,\n",
        "                          normalize=False):\n",
        "    import itertools\n",
        "    accuracy = np.trace(cm) / float(np.sum(cm))\n",
        "    misclass = 1 - accuracy\n",
        "\n",
        "    if cmap is None:\n",
        "        cmap = plt.get_cmap('Blues')\n",
        "\n",
        "    plt.figure(figsize=(8, 6))\n",
        "    plt.imshow(cm, interpolation='nearest', cmap=cmap)\n",
        "    plt.title(title)\n",
        "    plt.colorbar()\n",
        "\n",
        "    if target_names is not None:\n",
        "        tick_marks = np.arange(len(target_names))\n",
        "        plt.xticks(tick_marks, target_names, rotation=45)\n",
        "        plt.yticks(tick_marks, target_names)\n",
        "\n",
        "    if normalize:\n",
        "        cm = cm.astype('float') / cm.sum(axis=1)[:, np.newaxis]\n",
        "        \n",
        "    thresh = cm.max() / 1.5 if normalize else cm.max() / 2\n",
        "    for i, j in itertools.product(range(cm.shape[0]), range(cm.shape[1])):\n",
        "        if normalize:\n",
        "            plt.text(j, i, \"{:0.4f}\".format(cm[i, j]),\n",
        "                     horizontalalignment=\"center\",\n",
        "                     color=\"white\" if cm[i, j] > thresh else \"black\")\n",
        "        else:\n",
        "            plt.text(j, i, \"{:,}\".format(cm[i, j]),\n",
        "                     horizontalalignment=\"center\",\n",
        "                     color=\"white\" if cm[i, j] > thresh else \"black\")\n",
        "\n",
        "\n",
        "    plt.tight_layout()\n",
        "    plt.ylabel('True label')\n",
        "    plt.xlabel('Predicted label')\n",
        "    plt.show()\n"
      ],
      "execution_count": null,
      "outputs": []
    },
    {
      "cell_type": "code",
      "metadata": {
        "colab": {
          "base_uri": "https://localhost:8080/",
          "height": 458
        },
        "id": "Rkq1sX7gg89f",
        "outputId": "abcfae12-9cdc-4c13-82fd-031fe3bc0059"
      },
      "source": [
        "plot_confusion_matrix(conf_mx, \n",
        "                      normalize    = False,\n",
        "                      target_names = [0,1,2,3],\n",
        "                      title        = \"Confusion Matrix\")"
      ],
      "execution_count": null,
      "outputs": [
        {
          "output_type": "display_data",
          "data": {
            "image/png": "[encoded data removed]",
            "text/plain": [
              "<Figure size 576x432 with 2 Axes>"
            ]
          },
          "metadata": {
            "tags": []
          }
        }
      ]
    },
    {
      "cell_type": "code",
      "metadata": {
        "id": "UlIzZf6YhOxM"
      },
      "source": [
        "import pickle\n",
        "#pickle.dump(model,open('model.pkl','wb'))"
      ],
      "execution_count": 4,
      "outputs": []
    },
    {
      "cell_type": "code",
      "metadata": {
        "id": "GtxJEtutiZNu",
        "colab": {
          "base_uri": "https://localhost:8080/"
        },
        "outputId": "a015e8e1-3edc-41ad-985f-b6b03d804b5e"
      },
      "source": [
        "f = open('model.pkl','rb')\n",
        "model = pickle.load(f)\n",
        "print(model)"
      ],
      "execution_count": 8,
      "outputs": [
        {
          "output_type": "stream",
          "text": [
            "RandomForestClassifier(bootstrap=True, ccp_alpha=0.0, class_weight=None,\n",
            "                       criterion='gini', max_depth=None, max_features='auto',\n",
            "                       max_leaf_nodes=None, max_samples=None,\n",
            "                       min_impurity_decrease=0.0, min_impurity_split=None,\n",
            "                       min_samples_leaf=1, min_samples_split=2,\n",
            "                       min_weight_fraction_leaf=0.0, n_estimators=10, n_jobs=1,\n",
            "                       oob_score=False, random_state=None, verbose=0,\n",
            "                       warm_start=False)\n"
          ],
          "name": "stdout"
        }
      ]
    },
    {
      "cell_type": "code",
      "metadata": {
        "id": "bfYRlTBjfQbO"
      },
      "source": [
        "accuracy_per_batch = []\n",
        "for i in np.arange(500,len(XNorm),500):\n",
        "  y1 = model.predict(XNorm[:i])\n",
        "  acc = accuracy_score(y[:i],y1)\n",
        "  accuracy_per_batch.append(acc)"
      ],
      "execution_count": 41,
      "outputs": []
    },
    {
      "cell_type": "code",
      "metadata": {
        "id": "RF_sCHMSk22W"
      },
      "source": [
        "accuracy_per_batch"
      ],
      "execution_count": null,
      "outputs": []
    },
    {
      "cell_type": "code",
      "metadata": {
        "id": "KhhtJcVoieDL"
      },
      "source": [
        "#df1 = XNorm[:500]\n",
        "#df1"
      ],
      "execution_count": null,
      "outputs": []
    },
    {
      "cell_type": "code",
      "metadata": {
        "id": "jMAv5wKXlYMv"
      },
      "source": [
        "batches = np.arange(500,len(XNorm),500)"
      ],
      "execution_count": 43,
      "outputs": []
    },
    {
      "cell_type": "code",
      "metadata": {
        "colab": {
          "base_uri": "https://localhost:8080/",
          "height": 613
        },
        "id": "2pr-tEG8lx2I",
        "outputId": "49a96e92-ca65-4fb1-bac6-8f32d4cd00d4"
      },
      "source": [
        "plt.figure(figsize=(20,10))\n",
        "plt.plot(batches,accuracy_per_batch)\n",
        "plt.xlabel(\"Batches\")\n",
        "plt.ylabel(\"Accuracy\")\n",
        "plt.show()"
      ],
      "execution_count": 50,
      "outputs": [
        {
          "output_type": "display_data",
          "data": {
            "image/png": "[encoded data removed]",
            "text/plain": [
              "<Figure size 1440x720 with 1 Axes>"
            ]
          },
          "metadata": {
            "tags": []
          }
        }
      ]
    }
  ]
}